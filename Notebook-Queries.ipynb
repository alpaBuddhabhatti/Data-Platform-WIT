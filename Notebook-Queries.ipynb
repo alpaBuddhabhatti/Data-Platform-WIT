{
    "metadata": {
        "kernelspec": {
            "name": "SQL",
            "display_name": "SQL",
            "language": "sql"
        },
        "language_info": {
            "name": "sql",
            "version": ""
        }
    },
    "nbformat_minor": 2,
    "nbformat": 4,
    "cells": [
        {
            "cell_type": "markdown",
            "source": [
                "<mark></mark><mark>Table creation and data insertion</mark>"
            ],
            "metadata": {
                "azdata_cell_guid": "f2c70fa8-52ee-4c36-9dba-7f2e435d6b7a"
            }
        },
        {
            "cell_type": "markdown",
            "source": [
                "<span style=\"color: rgb(0, 128, 0); background-color: yellow;\">SELECT&nbsp;MOVIES RECORDS&nbsp; FROM DATASET/TABLES</span>"
            ],
            "metadata": {
                "azdata_cell_guid": "7f8647e5-7663-4e4a-8933-149a24ab7533"
            }
        },
        {
            "cell_type": "code",
            "source": [
                "\r\n",
                "  CREATE TABLE Movie(\r\n",
                "    id INT IDENTITY(1,1) PRIMARY KEY,\r\n",
                "    name VARCHAR(200) NOT NULL,\r\n",
                "    rating int NULL\r\n",
                ");\r\n",
                "\r\n",
                ""
            ],
            "metadata": {
                "azdata_cell_guid": "debe512b-d2c2-43e1-ba76-9b6d8725ba31"
            },
            "outputs": [
                {
                    "output_type": "error",
                    "evalue": "Msg 2714, Level 16, State 6, Line 2\r\nThere is already an object named 'Movie' in the database.",
                    "ename": "",
                    "traceback": []
                },
                {
                    "output_type": "display_data",
                    "data": {
                        "text/html": "Total execution time: 00:00:00.122"
                    },
                    "metadata": {}
                }
            ],
            "execution_count": 15
        },
        {
            "cell_type": "code",
            "source": [
                "-------------------------\r\n",
                "select * from [dbo].Movie\r\n",
                "----------------------\r\n",
                "insert into [dbo].[Movie](name,rating) values('FF9',NULL);\r\n",
                "insert into [dbo].[Movie](name,rating) values('MI3',NULL);\r\n",
                "\r\n",
                "insert into [dbo].[Movie](name,rating) values('FF6',0);\r\n",
                "insert into [dbo].[Movie](name,rating) values('MI2',0);\r\n",
                "\r\n",
                "insert into [dbo].[Movie](name,rating) VALUES('DIE ANOTHER DAY',5.0); \r\n",
                "insert into [dbo].[Movie](name,rating) VALUES('SKY FALL',4.0); \r\n",
                "\r\n",
                "insert into [dbo].[Movie](name,rating) VALUES('TAXI',0.0); \r\n",
                "insert into [dbo].[Movie](name,rating) VALUES('WHO KILLED HER',2.0); \r\n",
                "\r\n",
                "insert into [dbo].[Movie](name,rating) VALUES('MI5',5.0); \r\n",
                "insert into [dbo].[Movie](name,rating) VALUES('MI6',4.0); \r\n",
                "\r\n",
                "insert into [dbo].[Movie](name,rating) VALUES('DIE ANOTHER DAY',5.0); \r\n",
                "insert into [dbo].[Movie](name,rating) VALUES('SKY FALL',4.0); \r\n",
                "\r\n",
                "insert into [dbo].[Movie](name,rating) VALUES('DRIVE',5.0); \r\n",
                "insert into [dbo].[Movie](name,rating) VALUES('HERO',4.0); \r\n",
                "\r\n",
                "insert into [dbo].[Movie](name,rating) VALUES('BABY DRIVE',''); \r\n",
                "\r\n",
                "insert into [dbo].[Movie](name,rating) VALUES('DIE ANOTHER DAY 2',5.0); \r\n",
                "insert into [dbo].[Movie](name,rating) VALUES('SKY FALL 2',4.0); \r\n",
                "\r\n",
                "insert into [dbo].[Movie](name,rating) VALUES('FF8',5.0); \r\n",
                "insert into [dbo].[Movie](name,rating) VALUES('FF6',4.0); \r\n",
                "insert into [dbo].[Movie](name,rating) VALUES('DRIVE',5.0); \r\n",
                "insert into [dbo].[Movie](name,rating) VALUES('HERO',4.0); \r\n",
                "\r\n",
                ""
            ],
            "metadata": {
                "azdata_cell_guid": "f0776c8e-e08f-406f-8f4b-50bbf36ec25c"
            },
            "outputs": [],
            "execution_count": null
        },
        {
            "cell_type": "code",
            "source": [
                "--SELECT MOVIES FROM DATABASE TABLE \r\n",
                "SELECT TOP (1000) [ID]\r\n",
                "      ,[NAME]\r\n",
                "      ,[RATING]\r\n",
                "  FROM [DBO].[MOVIE];"
            ],
            "metadata": {
                "azdata_cell_guid": "374562d6-31f3-44a2-8868-a982c0eed4c8"
            },
            "outputs": [
                {
                    "output_type": "display_data",
                    "data": {
                        "text/html": "(21 rows affected)"
                    },
                    "metadata": {}
                },
                {
                    "output_type": "display_data",
                    "data": {
                        "text/html": "Total execution time: 00:00:00.109"
                    },
                    "metadata": {}
                },
                {
                    "output_type": "execute_result",
                    "metadata": {},
                    "execution_count": 18,
                    "data": {
                        "application/vnd.dataresource+json": {
                            "schema": {
                                "fields": [
                                    {
                                        "name": "ID"
                                    },
                                    {
                                        "name": "NAME"
                                    },
                                    {
                                        "name": "RATING"
                                    }
                                ]
                            },
                            "data": [
                                {
                                    "0": "18",
                                    "1": "FF9",
                                    "2": "NULL"
                                },
                                {
                                    "0": "19",
                                    "1": "MI3",
                                    "2": "NULL"
                                },
                                {
                                    "0": "20",
                                    "1": "FF6",
                                    "2": "0"
                                },
                                {
                                    "0": "21",
                                    "1": "MI2",
                                    "2": "0"
                                },
                                {
                                    "0": "22",
                                    "1": "DIE ANOTHER DAY",
                                    "2": "5"
                                },
                                {
                                    "0": "23",
                                    "1": "SKY FALL",
                                    "2": "4"
                                },
                                {
                                    "0": "24",
                                    "1": "TAXI",
                                    "2": "0"
                                },
                                {
                                    "0": "25",
                                    "1": "WHO KILLED HER",
                                    "2": "2"
                                },
                                {
                                    "0": "26",
                                    "1": "MI5",
                                    "2": "5"
                                },
                                {
                                    "0": "27",
                                    "1": "MI6",
                                    "2": "4"
                                },
                                {
                                    "0": "28",
                                    "1": "DIE ANOTHER DAY",
                                    "2": "5"
                                },
                                {
                                    "0": "29",
                                    "1": "SKY FALL",
                                    "2": "4"
                                },
                                {
                                    "0": "30",
                                    "1": "DRIVE",
                                    "2": "5"
                                },
                                {
                                    "0": "31",
                                    "1": "HERO",
                                    "2": "4"
                                },
                                {
                                    "0": "32",
                                    "1": "BABY DRIVE",
                                    "2": "0"
                                },
                                {
                                    "0": "33",
                                    "1": "DIE ANOTHER DAY 2",
                                    "2": "5"
                                },
                                {
                                    "0": "34",
                                    "1": "SKY FALL 2",
                                    "2": "4"
                                },
                                {
                                    "0": "35",
                                    "1": "FF8",
                                    "2": "5"
                                },
                                {
                                    "0": "36",
                                    "1": "FF6",
                                    "2": "4"
                                },
                                {
                                    "0": "37",
                                    "1": "DRIVE",
                                    "2": "5"
                                },
                                {
                                    "0": "38",
                                    "1": "HERO",
                                    "2": "4"
                                }
                            ]
                        },
                        "text/html": [
                            "<table>",
                            "<tr><th>ID</th><th>NAME</th><th>RATING</th></tr>",
                            "<tr><td>18</td><td>FF9</td><td>NULL</td></tr>",
                            "<tr><td>19</td><td>MI3</td><td>NULL</td></tr>",
                            "<tr><td>20</td><td>FF6</td><td>0</td></tr>",
                            "<tr><td>21</td><td>MI2</td><td>0</td></tr>",
                            "<tr><td>22</td><td>DIE ANOTHER DAY</td><td>5</td></tr>",
                            "<tr><td>23</td><td>SKY FALL</td><td>4</td></tr>",
                            "<tr><td>24</td><td>TAXI</td><td>0</td></tr>",
                            "<tr><td>25</td><td>WHO KILLED HER</td><td>2</td></tr>",
                            "<tr><td>26</td><td>MI5</td><td>5</td></tr>",
                            "<tr><td>27</td><td>MI6</td><td>4</td></tr>",
                            "<tr><td>28</td><td>DIE ANOTHER DAY</td><td>5</td></tr>",
                            "<tr><td>29</td><td>SKY FALL</td><td>4</td></tr>",
                            "<tr><td>30</td><td>DRIVE</td><td>5</td></tr>",
                            "<tr><td>31</td><td>HERO</td><td>4</td></tr>",
                            "<tr><td>32</td><td>BABY DRIVE</td><td>0</td></tr>",
                            "<tr><td>33</td><td>DIE ANOTHER DAY 2</td><td>5</td></tr>",
                            "<tr><td>34</td><td>SKY FALL 2</td><td>4</td></tr>",
                            "<tr><td>35</td><td>FF8</td><td>5</td></tr>",
                            "<tr><td>36</td><td>FF6</td><td>4</td></tr>",
                            "<tr><td>37</td><td>DRIVE</td><td>5</td></tr>",
                            "<tr><td>38</td><td>HERO</td><td>4</td></tr>",
                            "</table>"
                        ]
                    }
                }
            ],
            "execution_count": 18
        },
        {
            "cell_type": "markdown",
            "source": [
                "<mark>FIND OUT MOVIES WHO HAVE MISSING A RATING OR HAVE 0 RATING</mark>"
            ],
            "metadata": {
                "azdata_cell_guid": "c4caadb1-e826-4430-a11a-fcd5a3994616"
            }
        },
        {
            "cell_type": "code",
            "source": [
                "SELECT [ID]\r\n",
                "      ,[NAME]\r\n",
                "      ,[RATING]\r\n",
                "  FROM [DBO].[MOVIE] WHERE RATING IS NULL OR RATING=0;"
            ],
            "metadata": {
                "azdata_cell_guid": "b1101cf0-2a43-422f-adca-f0e820a7f837"
            },
            "outputs": [
                {
                    "output_type": "display_data",
                    "data": {
                        "text/html": "(6 rows affected)"
                    },
                    "metadata": {}
                },
                {
                    "output_type": "error",
                    "evalue": "Query failed: The operation was canceled.",
                    "ename": "",
                    "traceback": []
                },
                {
                    "output_type": "display_data",
                    "data": {
                        "text/html": "Query was canceled by user"
                    },
                    "metadata": {}
                },
                {
                    "output_type": "display_data",
                    "data": {
                        "text/html": "Total execution time: 00:00:00.106"
                    },
                    "metadata": {}
                }
            ],
            "execution_count": 19
        },
        {
            "cell_type": "markdown",
            "source": [
                "<mark>REPLACE MISSING RATING OR 0 RATING WITH AVERAGE RATING OR DEFAULT RATING</mark>"
            ],
            "metadata": {
                "azdata_cell_guid": "410b6d6b-94af-471e-968c-04b03ca3f4ff"
            }
        },
        {
            "cell_type": "code",
            "source": [
                "update dbo.movie set rating = (SELECT \r\n",
                "                                        avg([RATING])\r\n",
                "                                  FROM [DBO].[MOVIE] \r\n",
                "                                  WHERE RATING IS not NULL OR RATING>0)\r\n",
                " where RATING IS NULL OR RATING=0;"
            ],
            "metadata": {
                "azdata_cell_guid": "72ef3533-18b6-4c7d-bdf8-d9cac6925bcb",
                "tags": []
            },
            "outputs": [
                {
                    "output_type": "display_data",
                    "data": {
                        "text/html": "(6 rows affected)"
                    },
                    "metadata": {}
                },
                {
                    "output_type": "display_data",
                    "data": {
                        "text/html": "Total execution time: 00:00:00.100"
                    },
                    "metadata": {}
                }
            ],
            "execution_count": 20
        },
        {
            "cell_type": "markdown",
            "source": [
                "<mark>MOVIE WHO HAVE RATING  AS 3 OR MORE THAN 3</mark>"
            ],
            "metadata": {
                "azdata_cell_guid": "2305abd5-b996-47cc-9e32-467a8a0893ef"
            }
        },
        {
            "cell_type": "code",
            "source": [
                "\r\n",
                "SELECT \r\n",
                "[NAME],\r\n",
                "RATING\r\n",
                "FROM [DBO].[MOVIE] \r\n",
                "GROUP BY NAME,RATING\r\n",
                "HAVING RATING >3"
            ],
            "metadata": {
                "azdata_cell_guid": "8868d066-b3be-4f91-a3c5-7da6708c0f0d"
            },
            "outputs": [
                {
                    "output_type": "display_data",
                    "data": {
                        "text/html": "(10 rows affected)"
                    },
                    "metadata": {}
                },
                {
                    "output_type": "display_data",
                    "data": {
                        "text/html": "Total execution time: 00:00:00.104"
                    },
                    "metadata": {}
                },
                {
                    "output_type": "execute_result",
                    "metadata": {},
                    "execution_count": 22,
                    "data": {
                        "application/vnd.dataresource+json": {
                            "schema": {
                                "fields": [
                                    {
                                        "name": "NAME"
                                    },
                                    {
                                        "name": "RATING"
                                    }
                                ]
                            },
                            "data": [
                                {
                                    "0": "DIE ANOTHER DAY",
                                    "1": "5"
                                },
                                {
                                    "0": "DIE ANOTHER DAY 2",
                                    "1": "5"
                                },
                                {
                                    "0": "DRIVE",
                                    "1": "5"
                                },
                                {
                                    "0": "FF6",
                                    "1": "4"
                                },
                                {
                                    "0": "FF8",
                                    "1": "5"
                                },
                                {
                                    "0": "HERO",
                                    "1": "4"
                                },
                                {
                                    "0": "MI5",
                                    "1": "5"
                                },
                                {
                                    "0": "MI6",
                                    "1": "4"
                                },
                                {
                                    "0": "SKY FALL",
                                    "1": "4"
                                },
                                {
                                    "0": "SKY FALL 2",
                                    "1": "4"
                                }
                            ]
                        },
                        "text/html": [
                            "<table>",
                            "<tr><th>NAME</th><th>RATING</th></tr>",
                            "<tr><td>DIE ANOTHER DAY</td><td>5</td></tr>",
                            "<tr><td>DIE ANOTHER DAY 2</td><td>5</td></tr>",
                            "<tr><td>DRIVE</td><td>5</td></tr>",
                            "<tr><td>FF6</td><td>4</td></tr>",
                            "<tr><td>FF8</td><td>5</td></tr>",
                            "<tr><td>HERO</td><td>4</td></tr>",
                            "<tr><td>MI5</td><td>5</td></tr>",
                            "<tr><td>MI6</td><td>4</td></tr>",
                            "<tr><td>SKY FALL</td><td>4</td></tr>",
                            "<tr><td>SKY FALL 2</td><td>4</td></tr>",
                            "</table>"
                        ]
                    }
                }
            ],
            "execution_count": 22
        },
        {
            "cell_type": "markdown",
            "source": [
                "<mark>FIND OUT REOCRD WITH COUNT  - NUMBER OF TIME APPEARS INTO DATASET</mark>"
            ],
            "metadata": {
                "azdata_cell_guid": "2bb7afc9-7097-4ef6-8cd6-edcf112b67c6"
            }
        },
        {
            "cell_type": "code",
            "source": [
                "SELECT NAME,\r\n",
                "       RATING,\r\n",
                "       COUNT(*) AS [HOW MANY TIME COMES]\r\n",
                "FROM \r\n",
                "    [DBO].[MOVIE]\r\n",
                "GROUP BY \r\n",
                "    NAME,\r\n",
                "   RATING;"
            ],
            "metadata": {
                "azdata_cell_guid": "b591ebfb-3cff-431b-9bed-ca28f40d1011"
            },
            "outputs": [
                {
                    "output_type": "display_data",
                    "data": {
                        "text/html": "(17 rows affected)"
                    },
                    "metadata": {}
                },
                {
                    "output_type": "display_data",
                    "data": {
                        "text/html": "Total execution time: 00:00:00.109"
                    },
                    "metadata": {}
                },
                {
                    "output_type": "execute_result",
                    "metadata": {},
                    "execution_count": 23,
                    "data": {
                        "application/vnd.dataresource+json": {
                            "schema": {
                                "fields": [
                                    {
                                        "name": "NAME"
                                    },
                                    {
                                        "name": "RATING"
                                    },
                                    {
                                        "name": "HOW MANY TIME COMES"
                                    }
                                ]
                            },
                            "data": [
                                {
                                    "0": "WHO KILLED HER",
                                    "1": "2",
                                    "2": "1"
                                },
                                {
                                    "0": "BABY DRIVE",
                                    "1": "3",
                                    "2": "1"
                                },
                                {
                                    "0": "FF6",
                                    "1": "3",
                                    "2": "1"
                                },
                                {
                                    "0": "FF9",
                                    "1": "3",
                                    "2": "1"
                                },
                                {
                                    "0": "MI2",
                                    "1": "3",
                                    "2": "1"
                                },
                                {
                                    "0": "MI3",
                                    "1": "3",
                                    "2": "1"
                                },
                                {
                                    "0": "TAXI",
                                    "1": "3",
                                    "2": "1"
                                },
                                {
                                    "0": "FF6",
                                    "1": "4",
                                    "2": "1"
                                },
                                {
                                    "0": "HERO",
                                    "1": "4",
                                    "2": "2"
                                },
                                {
                                    "0": "MI6",
                                    "1": "4",
                                    "2": "1"
                                },
                                {
                                    "0": "SKY FALL",
                                    "1": "4",
                                    "2": "2"
                                },
                                {
                                    "0": "SKY FALL 2",
                                    "1": "4",
                                    "2": "1"
                                },
                                {
                                    "0": "DIE ANOTHER DAY",
                                    "1": "5",
                                    "2": "2"
                                },
                                {
                                    "0": "DIE ANOTHER DAY 2",
                                    "1": "5",
                                    "2": "1"
                                },
                                {
                                    "0": "DRIVE",
                                    "1": "5",
                                    "2": "2"
                                },
                                {
                                    "0": "FF8",
                                    "1": "5",
                                    "2": "1"
                                },
                                {
                                    "0": "MI5",
                                    "1": "5",
                                    "2": "1"
                                }
                            ]
                        },
                        "text/html": [
                            "<table>",
                            "<tr><th>NAME</th><th>RATING</th><th>HOW MANY TIME COMES</th></tr>",
                            "<tr><td>WHO KILLED HER</td><td>2</td><td>1</td></tr>",
                            "<tr><td>BABY DRIVE</td><td>3</td><td>1</td></tr>",
                            "<tr><td>FF6</td><td>3</td><td>1</td></tr>",
                            "<tr><td>FF9</td><td>3</td><td>1</td></tr>",
                            "<tr><td>MI2</td><td>3</td><td>1</td></tr>",
                            "<tr><td>MI3</td><td>3</td><td>1</td></tr>",
                            "<tr><td>TAXI</td><td>3</td><td>1</td></tr>",
                            "<tr><td>FF6</td><td>4</td><td>1</td></tr>",
                            "<tr><td>HERO</td><td>4</td><td>2</td></tr>",
                            "<tr><td>MI6</td><td>4</td><td>1</td></tr>",
                            "<tr><td>SKY FALL</td><td>4</td><td>2</td></tr>",
                            "<tr><td>SKY FALL 2</td><td>4</td><td>1</td></tr>",
                            "<tr><td>DIE ANOTHER DAY</td><td>5</td><td>2</td></tr>",
                            "<tr><td>DIE ANOTHER DAY 2</td><td>5</td><td>1</td></tr>",
                            "<tr><td>DRIVE</td><td>5</td><td>2</td></tr>",
                            "<tr><td>FF8</td><td>5</td><td>1</td></tr>",
                            "<tr><td>MI5</td><td>5</td><td>1</td></tr>",
                            "</table>"
                        ]
                    }
                }
            ],
            "execution_count": 23
        },
        {
            "cell_type": "markdown",
            "source": [
                "<mark>FIND OUT DUPLICATE RECORDS</mark>"
            ],
            "metadata": {
                "azdata_cell_guid": "1946d465-19e1-46f7-95bc-ada061a4d371"
            }
        },
        {
            "cell_type": "code",
            "source": [
                "SELECT \r\n",
                "   NAME,\r\n",
                "   RATING,\r\n",
                "   COUNT(*) AS [HOW MANY TIME COME]\r\n",
                "FROM \r\n",
                "    [DBO].[MOVIE]\r\n",
                "GROUP BY \r\n",
                "   NAME,\r\n",
                "   RATING\r\n",
                "   HAVING COUNT(*) >1"
            ],
            "metadata": {
                "azdata_cell_guid": "5be39c42-4b98-4c3d-af17-c40e841133d4"
            },
            "outputs": [
                {
                    "output_type": "display_data",
                    "data": {
                        "text/html": "(4 rows affected)"
                    },
                    "metadata": {}
                },
                {
                    "output_type": "display_data",
                    "data": {
                        "text/html": "Total execution time: 00:00:00.105"
                    },
                    "metadata": {}
                },
                {
                    "output_type": "execute_result",
                    "metadata": {},
                    "execution_count": 24,
                    "data": {
                        "application/vnd.dataresource+json": {
                            "schema": {
                                "fields": [
                                    {
                                        "name": "NAME"
                                    },
                                    {
                                        "name": "RATING"
                                    },
                                    {
                                        "name": "HOW MANY TIME COME"
                                    }
                                ]
                            },
                            "data": [
                                {
                                    "0": "HERO",
                                    "1": "4",
                                    "2": "2"
                                },
                                {
                                    "0": "SKY FALL",
                                    "1": "4",
                                    "2": "2"
                                },
                                {
                                    "0": "DIE ANOTHER DAY",
                                    "1": "5",
                                    "2": "2"
                                },
                                {
                                    "0": "DRIVE",
                                    "1": "5",
                                    "2": "2"
                                }
                            ]
                        },
                        "text/html": [
                            "<table>",
                            "<tr><th>NAME</th><th>RATING</th><th>HOW MANY TIME COME</th></tr>",
                            "<tr><td>HERO</td><td>4</td><td>2</td></tr>",
                            "<tr><td>SKY FALL</td><td>4</td><td>2</td></tr>",
                            "<tr><td>DIE ANOTHER DAY</td><td>5</td><td>2</td></tr>",
                            "<tr><td>DRIVE</td><td>5</td><td>2</td></tr>",
                            "</table>"
                        ]
                    }
                }
            ],
            "execution_count": 24
        },
        {
            "cell_type": "markdown",
            "source": [
                "<mark>DUPLICATE RECORDS SELECTION</mark>"
            ],
            "metadata": {
                "azdata_cell_guid": "ffff24e9-f937-4c74-9092-5a7a0b6952f5"
            }
        },
        {
            "cell_type": "code",
            "source": [
                "SELECT *\r\n",
                "FROM [DBO].[MOVIE]\r\n",
                "WHERE  NAME IN\r\n",
                "\t\t\t\t\t( SELECT \r\n",
                "\t\t\t\t\tNAME\r\n",
                "\t\t\t\tFROM \r\n",
                "\t\t\t\t\t[DBO].[MOVIE]\r\n",
                "\t\t\t\tGROUP BY \r\n",
                "\t\t\t\t\tNAME,\r\n",
                "\t\t\t\t   RATING\r\n",
                "\t\t\t\t   HAVING COUNT(*) >1\r\n",
                "\t\t\t\t\t)\r\n",
                "ORDER BY NAME,RATING;"
            ],
            "metadata": {
                "azdata_cell_guid": "3198910b-e74b-4a3d-848f-3499126bd15a"
            },
            "outputs": [
                {
                    "output_type": "display_data",
                    "data": {
                        "text/html": "(8 rows affected)"
                    },
                    "metadata": {}
                },
                {
                    "output_type": "display_data",
                    "data": {
                        "text/html": "Total execution time: 00:00:00.198"
                    },
                    "metadata": {}
                },
                {
                    "output_type": "execute_result",
                    "metadata": {},
                    "execution_count": 26,
                    "data": {
                        "application/vnd.dataresource+json": {
                            "schema": {
                                "fields": [
                                    {
                                        "name": "id"
                                    },
                                    {
                                        "name": "name"
                                    },
                                    {
                                        "name": "rating"
                                    }
                                ]
                            },
                            "data": [
                                {
                                    "0": "22",
                                    "1": "DIE ANOTHER DAY",
                                    "2": "5"
                                },
                                {
                                    "0": "28",
                                    "1": "DIE ANOTHER DAY",
                                    "2": "5"
                                },
                                {
                                    "0": "37",
                                    "1": "DRIVE",
                                    "2": "5"
                                },
                                {
                                    "0": "30",
                                    "1": "DRIVE",
                                    "2": "5"
                                },
                                {
                                    "0": "31",
                                    "1": "HERO",
                                    "2": "4"
                                },
                                {
                                    "0": "38",
                                    "1": "HERO",
                                    "2": "4"
                                },
                                {
                                    "0": "29",
                                    "1": "SKY FALL",
                                    "2": "4"
                                },
                                {
                                    "0": "23",
                                    "1": "SKY FALL",
                                    "2": "4"
                                }
                            ]
                        },
                        "text/html": [
                            "<table>",
                            "<tr><th>id</th><th>name</th><th>rating</th></tr>",
                            "<tr><td>22</td><td>DIE ANOTHER DAY</td><td>5</td></tr>",
                            "<tr><td>28</td><td>DIE ANOTHER DAY</td><td>5</td></tr>",
                            "<tr><td>37</td><td>DRIVE</td><td>5</td></tr>",
                            "<tr><td>30</td><td>DRIVE</td><td>5</td></tr>",
                            "<tr><td>31</td><td>HERO</td><td>4</td></tr>",
                            "<tr><td>38</td><td>HERO</td><td>4</td></tr>",
                            "<tr><td>29</td><td>SKY FALL</td><td>4</td></tr>",
                            "<tr><td>23</td><td>SKY FALL</td><td>4</td></tr>",
                            "</table>"
                        ]
                    }
                }
            ],
            "execution_count": 26
        },
        {
            "cell_type": "markdown",
            "source": [
                "<mark>SELECT RECORD ALL RECORDS WITH LATEST IDS</mark>"
            ],
            "metadata": {
                "azdata_cell_guid": "59a6277f-5993-4b6f-b041-37b8711631a9"
            }
        },
        {
            "cell_type": "markdown",
            "source": [
                ""
            ],
            "metadata": {
                "azdata_cell_guid": "16a3ae29-d06d-47c7-ad6d-961e82d39bdc"
            }
        },
        {
            "cell_type": "code",
            "source": [
                "SELECT\r\n",
                "  MAX(ID)\r\n",
                "FROM\r\n",
                "  DBO.MOVIE\r\n",
                "GROUP BY\r\n",
                "  NAME,\r\n",
                "  RATING\r\n",
                "ORDER BY\r\n",
                "  MAX(ID);"
            ],
            "metadata": {
                "azdata_cell_guid": "d10d350a-ffb5-47a0-bad9-23d216575f41"
            },
            "outputs": [
                {
                    "output_type": "display_data",
                    "data": {
                        "text/html": "(17 rows affected)"
                    },
                    "metadata": {}
                },
                {
                    "output_type": "display_data",
                    "data": {
                        "text/html": "Total execution time: 00:00:00.109"
                    },
                    "metadata": {}
                },
                {
                    "output_type": "execute_result",
                    "metadata": {},
                    "execution_count": 28,
                    "data": {
                        "application/vnd.dataresource+json": {
                            "schema": {
                                "fields": [
                                    {
                                        "name": "(No column name)"
                                    }
                                ]
                            },
                            "data": [
                                {
                                    "0": "18"
                                },
                                {
                                    "0": "19"
                                },
                                {
                                    "0": "20"
                                },
                                {
                                    "0": "21"
                                },
                                {
                                    "0": "24"
                                },
                                {
                                    "0": "25"
                                },
                                {
                                    "0": "26"
                                },
                                {
                                    "0": "27"
                                },
                                {
                                    "0": "28"
                                },
                                {
                                    "0": "29"
                                },
                                {
                                    "0": "32"
                                },
                                {
                                    "0": "33"
                                },
                                {
                                    "0": "34"
                                },
                                {
                                    "0": "35"
                                },
                                {
                                    "0": "36"
                                },
                                {
                                    "0": "37"
                                },
                                {
                                    "0": "38"
                                }
                            ]
                        },
                        "text/html": [
                            "<table>",
                            "<tr><th>(No column name)</th></tr>",
                            "<tr><td>18</td></tr>",
                            "<tr><td>19</td></tr>",
                            "<tr><td>20</td></tr>",
                            "<tr><td>21</td></tr>",
                            "<tr><td>24</td></tr>",
                            "<tr><td>25</td></tr>",
                            "<tr><td>26</td></tr>",
                            "<tr><td>27</td></tr>",
                            "<tr><td>28</td></tr>",
                            "<tr><td>29</td></tr>",
                            "<tr><td>32</td></tr>",
                            "<tr><td>33</td></tr>",
                            "<tr><td>34</td></tr>",
                            "<tr><td>35</td></tr>",
                            "<tr><td>36</td></tr>",
                            "<tr><td>37</td></tr>",
                            "<tr><td>38</td></tr>",
                            "</table>"
                        ]
                    }
                }
            ],
            "execution_count": 28
        },
        {
            "cell_type": "markdown",
            "source": [
                " <mark>REMOVE DUPLICATE RECORD.ONLY KEEPING LATEST INSERTED ONE</mark>"
            ],
            "metadata": {
                "azdata_cell_guid": "4c24a842-bf68-4d80-9b9c-d180e8caebe4"
            }
        },
        {
            "cell_type": "code",
            "source": [
                "DELETE FROM\r\n",
                "  DBO.MOVIE\r\n",
                "WHERE\r\n",
                "  ID NOT IN\r\n",
                "  (\r\n",
                "    SELECT\r\n",
                "      MAX(ID)\r\n",
                "    FROM\r\n",
                "      DBO.MOVIE\r\n",
                "    GROUP BY\r\n",
                "      NAME,\r\n",
                "      RATING\r\n",
                "  );\r\n",
                "\r\n",
                ""
            ],
            "metadata": {
                "azdata_cell_guid": "6a7d2ec7-d845-4f6e-895a-3282837d34e2"
            },
            "outputs": [
                {
                    "output_type": "display_data",
                    "data": {
                        "text/html": "(4 rows affected)"
                    },
                    "metadata": {}
                },
                {
                    "output_type": "display_data",
                    "data": {
                        "text/html": "Total execution time: 00:00:00.121"
                    },
                    "metadata": {}
                }
            ],
            "execution_count": 29
        },
        {
            "cell_type": "code",
            "source": [
                "select *  FROM\r\n",
                "  DBO.MOVIE"
            ],
            "metadata": {
                "azdata_cell_guid": "f72633de-1483-4f90-8a45-ecbfb1ca90d2"
            },
            "outputs": [
                {
                    "output_type": "display_data",
                    "data": {
                        "text/html": "(17 rows affected)"
                    },
                    "metadata": {}
                },
                {
                    "output_type": "display_data",
                    "data": {
                        "text/html": "Total execution time: 00:00:00.112"
                    },
                    "metadata": {}
                },
                {
                    "output_type": "execute_result",
                    "metadata": {},
                    "execution_count": 30,
                    "data": {
                        "application/vnd.dataresource+json": {
                            "schema": {
                                "fields": [
                                    {
                                        "name": "id"
                                    },
                                    {
                                        "name": "name"
                                    },
                                    {
                                        "name": "rating"
                                    }
                                ]
                            },
                            "data": [
                                {
                                    "0": "18",
                                    "1": "FF9",
                                    "2": "3"
                                },
                                {
                                    "0": "19",
                                    "1": "MI3",
                                    "2": "3"
                                },
                                {
                                    "0": "20",
                                    "1": "FF6",
                                    "2": "3"
                                },
                                {
                                    "0": "21",
                                    "1": "MI2",
                                    "2": "3"
                                },
                                {
                                    "0": "24",
                                    "1": "TAXI",
                                    "2": "3"
                                },
                                {
                                    "0": "25",
                                    "1": "WHO KILLED HER",
                                    "2": "2"
                                },
                                {
                                    "0": "26",
                                    "1": "MI5",
                                    "2": "5"
                                },
                                {
                                    "0": "27",
                                    "1": "MI6",
                                    "2": "4"
                                },
                                {
                                    "0": "28",
                                    "1": "DIE ANOTHER DAY",
                                    "2": "5"
                                },
                                {
                                    "0": "29",
                                    "1": "SKY FALL",
                                    "2": "4"
                                },
                                {
                                    "0": "32",
                                    "1": "BABY DRIVE",
                                    "2": "3"
                                },
                                {
                                    "0": "33",
                                    "1": "DIE ANOTHER DAY 2",
                                    "2": "5"
                                },
                                {
                                    "0": "34",
                                    "1": "SKY FALL 2",
                                    "2": "4"
                                },
                                {
                                    "0": "35",
                                    "1": "FF8",
                                    "2": "5"
                                },
                                {
                                    "0": "36",
                                    "1": "FF6",
                                    "2": "4"
                                },
                                {
                                    "0": "37",
                                    "1": "DRIVE",
                                    "2": "5"
                                },
                                {
                                    "0": "38",
                                    "1": "HERO",
                                    "2": "4"
                                }
                            ]
                        },
                        "text/html": [
                            "<table>",
                            "<tr><th>id</th><th>name</th><th>rating</th></tr>",
                            "<tr><td>18</td><td>FF9</td><td>3</td></tr>",
                            "<tr><td>19</td><td>MI3</td><td>3</td></tr>",
                            "<tr><td>20</td><td>FF6</td><td>3</td></tr>",
                            "<tr><td>21</td><td>MI2</td><td>3</td></tr>",
                            "<tr><td>24</td><td>TAXI</td><td>3</td></tr>",
                            "<tr><td>25</td><td>WHO KILLED HER</td><td>2</td></tr>",
                            "<tr><td>26</td><td>MI5</td><td>5</td></tr>",
                            "<tr><td>27</td><td>MI6</td><td>4</td></tr>",
                            "<tr><td>28</td><td>DIE ANOTHER DAY</td><td>5</td></tr>",
                            "<tr><td>29</td><td>SKY FALL</td><td>4</td></tr>",
                            "<tr><td>32</td><td>BABY DRIVE</td><td>3</td></tr>",
                            "<tr><td>33</td><td>DIE ANOTHER DAY 2</td><td>5</td></tr>",
                            "<tr><td>34</td><td>SKY FALL 2</td><td>4</td></tr>",
                            "<tr><td>35</td><td>FF8</td><td>5</td></tr>",
                            "<tr><td>36</td><td>FF6</td><td>4</td></tr>",
                            "<tr><td>37</td><td>DRIVE</td><td>5</td></tr>",
                            "<tr><td>38</td><td>HERO</td><td>4</td></tr>",
                            "</table>"
                        ]
                    }
                }
            ],
            "execution_count": 30
        }
    ]
}