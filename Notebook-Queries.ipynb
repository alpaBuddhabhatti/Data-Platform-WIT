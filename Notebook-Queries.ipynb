{
    "metadata": {
        "kernelspec": {
            "name": "SQL",
            "display_name": "SQL",
            "language": "sql"
        },
        "language_info": {
            "name": "sql",
            "version": ""
        }
    },
    "nbformat_minor": 2,
    "nbformat": 4,
    "cells": [
        {
            "cell_type": "markdown",
            "source": [
                "<span style=\"color: rgb(0, 128, 0); background-color: yellow;\">SELECT&nbsp;MOVIES RECORDS&nbsp; FROM DATASET/TABLES</span>"
            ],
            "metadata": {
                "azdata_cell_guid": "7f8647e5-7663-4e4a-8933-149a24ab7533"
            }
        },
        {
            "cell_type": "code",
            "source": [
                "--SELECT MOVIES FROM DATABASE TABLE \r\n",
                "SELECT TOP (1000) [ID]\r\n",
                "      ,[NAME]\r\n",
                "      ,[RATING]\r\n",
                "  FROM [DBO].[MOVIES];"
            ],
            "metadata": {
                "azdata_cell_guid": "374562d6-31f3-44a2-8868-a982c0eed4c8"
            },
            "outputs": [
{
    "output_type": "display_data",
    "data": {
        "text/html": "(14 rows affected)"
    },
    "metadata": {}
}, {
    "output_type": "display_data",
    "data": {
        "text/html": "Total execution time: 00:00:00.098"
    },
    "metadata": {}
}, {
    "output_type": "execute_result",
    "metadata": {},
    "execution_count": 19,
    "data": {
        "application/vnd.dataresource+json": {
            "schema": {
                "fields": [
                    {
                        "name": "ID"
                    },
                    {
                        "name": "NAME"
                    },
                    {
                        "name": "RATING"
                    }
                ]
            },
            "data": [
                {
                    "0": "52",
                    "1": "Drive",
                    "2": "5"
                },
                {
                    "0": "53",
                    "1": "hero",
                    "2": "4"
                },
                {
                    "0": "54",
                    "1": "Taxi",
                    "2": "3"
                },
                {
                    "0": "56",
                    "1": "Who Killed her",
                    "2": "2"
                },
                {
                    "0": "57",
                    "1": "MI5",
                    "2": "5"
                },
                {
                    "0": "58",
                    "1": "MI6",
                    "2": "4"
                },
                {
                    "0": "63",
                    "1": "Die Another Day",
                    "2": "5"
                },
                {
                    "0": "64",
                    "1": "Sky Fall",
                    "2": "4"
                },
                {
                    "0": "65",
                    "1": "FF8",
                    "2": "5"
                },
                {
                    "0": "66",
                    "1": "FF6",
                    "2": "4"
                },
                {
                    "0": "67",
                    "1": "Die Another Day 2",
                    "2": "5"
                },
                {
                    "0": "68",
                    "1": "Sky Fall 2",
                    "2": "4"
                },
                {
                    "0": "69",
                    "1": "FF9",
                    "2": "3"
                },
                {
                    "0": "70",
                    "1": "MI3",
                    "2": "3"
                }
            ]
        },
        "text/html": [
            "<table>",
            "<tr><th>ID</th><th>NAME</th><th>RATING</th></tr>",
            "<tr><td>52</td><td>Drive</td><td>5</td></tr>",
            "<tr><td>53</td><td>hero</td><td>4</td></tr>",
            "<tr><td>54</td><td>Taxi</td><td>3</td></tr>",
            "<tr><td>56</td><td>Who Killed her</td><td>2</td></tr>",
            "<tr><td>57</td><td>MI5</td><td>5</td></tr>",
            "<tr><td>58</td><td>MI6</td><td>4</td></tr>",
            "<tr><td>63</td><td>Die Another Day</td><td>5</td></tr>",
            "<tr><td>64</td><td>Sky Fall</td><td>4</td></tr>",
            "<tr><td>65</td><td>FF8</td><td>5</td></tr>",
            "<tr><td>66</td><td>FF6</td><td>4</td></tr>",
            "<tr><td>67</td><td>Die Another Day 2</td><td>5</td></tr>",
            "<tr><td>68</td><td>Sky Fall 2</td><td>4</td></tr>",
            "<tr><td>69</td><td>FF9</td><td>3</td></tr>",
            "<tr><td>70</td><td>MI3</td><td>3</td></tr>",
            "</table>"
        ]
    }
}
],
            "execution_count": 3
        },
        {
            "cell_type": "markdown",
            "source": [
                "<mark>FIND OUT MOVIES WHO HAVE MISSING A RATING OR HAVE 0 RATING</mark>"
            ],
            "metadata": {
                "azdata_cell_guid": "c4caadb1-e826-4430-a11a-fcd5a3994616"
            }
        },
        {
            "cell_type": "code",
            "source": [
                "SELECT [ID]\r\n",
                "      ,[NAME]\r\n",
                "      ,[RATING]\r\n",
                "  FROM [DBO].[MOVIES] WHERE RATING IS NULL OR RATING=0;"
            ],
            "metadata": {
                "azdata_cell_guid": "b1101cf0-2a43-422f-adca-f0e820a7f837"
            },
            "outputs": [
{
    "output_type": "display_data",
    "data": {
        "text/html": "(0 rows affected)"
    },
    "metadata": {}
}, {
    "output_type": "display_data",
    "data": {
        "text/html": "Total execution time: 00:00:00.110"
    },
    "metadata": {}
}, {
    "output_type": "execute_result",
    "metadata": {},
    "execution_count": 12,
    "data": {
        "application/vnd.dataresource+json": {
            "schema": {
                "fields": [
                    {
                        "name": "ID"
                    },
                    {
                        "name": "NAME"
                    },
                    {
                        "name": "RATING"
                    }
                ]
            },
            "data": []
        },
        "text/html": [
            "<table>",
            "<tr><th>ID</th><th>NAME</th><th>RATING</th></tr>",
            "</table>"
        ]
    }
}
],
            "execution_count": 4
        },
        {
            "cell_type": "markdown",
            "source": [
                "<mark>REPLACE MISSING RATING OR 0 RATING WITH AVERAGE RATING OR DEFAULT RATING</mark>"
            ],
            "metadata": {
                "azdata_cell_guid": "410b6d6b-94af-471e-968c-04b03ca3f4ff"
            }
        },
        {
            "cell_type": "code",
            "source": [
                "update dbo.movies set rating = (SELECT \r\n",
                "                                        avg([RATING])\r\n",
                "                                  FROM [DBO].[MOVIES] \r\n",
                "                                  WHERE RATING IS not NULL OR RATING>0)\r\n",
                " where RATING IS NULL OR RATING=0;"
            ],
            "metadata": {
                "azdata_cell_guid": "72ef3533-18b6-4c7d-bdf8-d9cac6925bcb",
                "tags": []
            },
            "outputs": [
                {
                    "output_type": "display_data",
                    "data": {
                        "text/html": "(0 rows affected)"
                    },
                    "metadata": {}
                },
                {
                    "output_type": "display_data",
                    "data": {
                        "text/html": "Total execution time: 00:00:00.093"
                    },
                    "metadata": {}
                }
            ],
            "execution_count": 8
        },
        {
            "cell_type": "code",
            "source": [
                "update dbo.movies set rating = (SELECT \r\n",
                "                                        avg([RATING])\r\n",
                "                                  FROM [DBO].[MOVIES] \r\n",
                "                                  WHERE RATING IS not NULL OR RATING>0)\r\n",
                " where RATING IS NULL OR RATING=0;"
            ],
            "metadata": {
                "azdata_cell_guid": "7aa2070b-7571-4763-bc9e-70c8627fdfe0"
            },
            "outputs": [
{
    "output_type": "display_data",
    "data": {
        "text/html": "(0 rows affected)"
    },
    "metadata": {}
}, {
    "output_type": "display_data",
    "data": {
        "text/html": "Total execution time: 00:00:00.097"
    },
    "metadata": {}
}
],
            "execution_count": null
        },
        {
            "cell_type": "markdown",
            "source": [
                "<mark></mark><mark>DISTINCT MOVIES</mark>"
            ],
            "metadata": {
                "azdata_cell_guid": "98e2d6ab-8250-4a6b-ba1e-9199188bdf0e"
            }
        },
        {
            "cell_type": "code",
            "source": [
                "SELECT DISTINCT [ID]\r\n",
                "      ,[NAME]\r\n",
                "      ,[RATING]\r\n",
                "FROM [DBO].[MOVIEs] "
            ],
            "metadata": {
                "azdata_cell_guid": "1ff94192-1812-4f65-90f1-33e8cac6eacc"
            },
            "outputs": [
{
    "output_type": "display_data",
    "data": {
        "text/html": "(24 rows affected)"
    },
    "metadata": {}
}, {
    "output_type": "display_data",
    "data": {
        "text/html": "Total execution time: 00:00:00.101"
    },
    "metadata": {}
}, {
    "output_type": "execute_result",
    "metadata": {},
    "execution_count": 14,
    "data": {
        "application/vnd.dataresource+json": {
            "schema": {
                "fields": [
                    {
                        "name": "ID"
                    },
                    {
                        "name": "NAME"
                    },
                    {
                        "name": "RATING"
                    }
                ]
            },
            "data": [
                {
                    "0": "47",
                    "1": "Die Another Day",
                    "2": "5"
                },
                {
                    "0": "48",
                    "1": "Sky Fall",
                    "2": "4"
                },
                {
                    "0": "49",
                    "1": "Die Another Day",
                    "2": "5"
                },
                {
                    "0": "50",
                    "1": "Sky Fall",
                    "2": "4"
                },
                {
                    "0": "51",
                    "1": "Taxi",
                    "2": "3"
                },
                {
                    "0": "52",
                    "1": "Drive",
                    "2": "5"
                },
                {
                    "0": "53",
                    "1": "hero",
                    "2": "4"
                },
                {
                    "0": "54",
                    "1": "Taxi",
                    "2": "3"
                },
                {
                    "0": "55",
                    "1": "Who Killed her",
                    "2": "2"
                },
                {
                    "0": "56",
                    "1": "Who Killed her",
                    "2": "2"
                },
                {
                    "0": "57",
                    "1": "MI5",
                    "2": "5"
                },
                {
                    "0": "58",
                    "1": "MI6",
                    "2": "4"
                },
                {
                    "0": "59",
                    "1": "Die Another Day",
                    "2": "5"
                },
                {
                    "0": "60",
                    "1": "Sky Fall",
                    "2": "4"
                },
                {
                    "0": "61",
                    "1": "Die Another Day",
                    "2": "5"
                },
                {
                    "0": "62",
                    "1": "Sky Fall",
                    "2": "4"
                },
                {
                    "0": "63",
                    "1": "Die Another Day",
                    "2": "5"
                },
                {
                    "0": "64",
                    "1": "Sky Fall",
                    "2": "4"
                },
                {
                    "0": "65",
                    "1": "FF8",
                    "2": "5"
                },
                {
                    "0": "66",
                    "1": "FF6",
                    "2": "4"
                },
                {
                    "0": "67",
                    "1": "Die Another Day 2",
                    "2": "5"
                },
                {
                    "0": "68",
                    "1": "Sky Fall 2",
                    "2": "4"
                },
                {
                    "0": "69",
                    "1": "FF9",
                    "2": "3"
                },
                {
                    "0": "70",
                    "1": "MI3",
                    "2": "3"
                }
            ]
        },
        "text/html": [
            "<table>",
            "<tr><th>ID</th><th>NAME</th><th>RATING</th></tr>",
            "<tr><td>47</td><td>Die Another Day</td><td>5</td></tr>",
            "<tr><td>48</td><td>Sky Fall</td><td>4</td></tr>",
            "<tr><td>49</td><td>Die Another Day</td><td>5</td></tr>",
            "<tr><td>50</td><td>Sky Fall</td><td>4</td></tr>",
            "<tr><td>51</td><td>Taxi</td><td>3</td></tr>",
            "<tr><td>52</td><td>Drive</td><td>5</td></tr>",
            "<tr><td>53</td><td>hero</td><td>4</td></tr>",
            "<tr><td>54</td><td>Taxi</td><td>3</td></tr>",
            "<tr><td>55</td><td>Who Killed her</td><td>2</td></tr>",
            "<tr><td>56</td><td>Who Killed her</td><td>2</td></tr>",
            "<tr><td>57</td><td>MI5</td><td>5</td></tr>",
            "<tr><td>58</td><td>MI6</td><td>4</td></tr>",
            "<tr><td>59</td><td>Die Another Day</td><td>5</td></tr>",
            "<tr><td>60</td><td>Sky Fall</td><td>4</td></tr>",
            "<tr><td>61</td><td>Die Another Day</td><td>5</td></tr>",
            "<tr><td>62</td><td>Sky Fall</td><td>4</td></tr>",
            "<tr><td>63</td><td>Die Another Day</td><td>5</td></tr>",
            "<tr><td>64</td><td>Sky Fall</td><td>4</td></tr>",
            "<tr><td>65</td><td>FF8</td><td>5</td></tr>",
            "<tr><td>66</td><td>FF6</td><td>4</td></tr>",
            "<tr><td>67</td><td>Die Another Day 2</td><td>5</td></tr>",
            "<tr><td>68</td><td>Sky Fall 2</td><td>4</td></tr>",
            "<tr><td>69</td><td>FF9</td><td>3</td></tr>",
            "<tr><td>70</td><td>MI3</td><td>3</td></tr>",
            "</table>"
        ]
    }
}
],
            "execution_count": null
        },
        {
            "cell_type": "markdown",
            "source": [
                "<mark>MOVIE WHO HAVE RATING  AS 3 OR MORE THAN 3</mark>"
            ],
            "metadata": {
                "azdata_cell_guid": "2305abd5-b996-47cc-9e32-467a8a0893ef"
            }
        },
        {
            "cell_type": "code",
            "source": [
                "\r\n",
                "SELECT \r\n",
                "[NAME],\r\n",
                "RATING\r\n",
                "FROM [DBO].[MOVIES] \r\n",
                "GROUP BY NAME,RATING\r\n",
                "HAVING RATING >3"
            ],
            "metadata": {
                "azdata_cell_guid": "8868d066-b3be-4f91-a3c5-7da6708c0f0d"
            },
            "outputs": [],
            "execution_count": null
        },
        {
            "cell_type": "markdown",
            "source": [
                "<mark>FIND OUT REOCRD WITH COUNT  - NUMBER OF TIME APPEARS INTO DATASET</mark>"
            ],
            "metadata": {
                "azdata_cell_guid": "2bb7afc9-7097-4ef6-8cd6-edcf112b67c6"
            }
        },
        {
            "cell_type": "code",
            "source": [
                "SELECT NAME,\r\n",
                "       RATING,\r\n",
                "       COUNT(*) AS [HOW MANY TIME COMES]\r\n",
                "FROM \r\n",
                "    [DBO].[MOVIES]\r\n",
                "GROUP BY \r\n",
                "    NAME,\r\n",
                "   RATING;"
            ],
            "metadata": {
                "azdata_cell_guid": "b591ebfb-3cff-431b-9bed-ca28f40d1011"
            },
            "outputs": [
{
    "output_type": "display_data",
    "data": {
        "text/html": "(14 rows affected)"
    },
    "metadata": {}
}, {
    "output_type": "display_data",
    "data": {
        "text/html": "Total execution time: 00:00:00.109"
    },
    "metadata": {}
}, {
    "output_type": "execute_result",
    "metadata": {},
    "execution_count": 15,
    "data": {
        "application/vnd.dataresource+json": {
            "schema": {
                "fields": [
                    {
                        "name": "NAME"
                    },
                    {
                        "name": "RATING"
                    },
                    {
                        "name": "HOW MANY TIME COMES"
                    }
                ]
            },
            "data": [
                {
                    "0": "Who Killed her",
                    "1": "2",
                    "2": "2"
                },
                {
                    "0": "FF9",
                    "1": "3",
                    "2": "1"
                },
                {
                    "0": "MI3",
                    "1": "3",
                    "2": "1"
                },
                {
                    "0": "Taxi",
                    "1": "3",
                    "2": "2"
                },
                {
                    "0": "FF6",
                    "1": "4",
                    "2": "1"
                },
                {
                    "0": "hero",
                    "1": "4",
                    "2": "1"
                },
                {
                    "0": "MI6",
                    "1": "4",
                    "2": "1"
                },
                {
                    "0": "Sky Fall",
                    "1": "4",
                    "2": "5"
                },
                {
                    "0": "Sky Fall 2",
                    "1": "4",
                    "2": "1"
                },
                {
                    "0": "Die Another Day",
                    "1": "5",
                    "2": "5"
                },
                {
                    "0": "Die Another Day 2",
                    "1": "5",
                    "2": "1"
                },
                {
                    "0": "Drive",
                    "1": "5",
                    "2": "1"
                },
                {
                    "0": "FF8",
                    "1": "5",
                    "2": "1"
                },
                {
                    "0": "MI5",
                    "1": "5",
                    "2": "1"
                }
            ]
        },
        "text/html": [
            "<table>",
            "<tr><th>NAME</th><th>RATING</th><th>HOW MANY TIME COMES</th></tr>",
            "<tr><td>Who Killed her</td><td>2</td><td>2</td></tr>",
            "<tr><td>FF9</td><td>3</td><td>1</td></tr>",
            "<tr><td>MI3</td><td>3</td><td>1</td></tr>",
            "<tr><td>Taxi</td><td>3</td><td>2</td></tr>",
            "<tr><td>FF6</td><td>4</td><td>1</td></tr>",
            "<tr><td>hero</td><td>4</td><td>1</td></tr>",
            "<tr><td>MI6</td><td>4</td><td>1</td></tr>",
            "<tr><td>Sky Fall</td><td>4</td><td>5</td></tr>",
            "<tr><td>Sky Fall 2</td><td>4</td><td>1</td></tr>",
            "<tr><td>Die Another Day</td><td>5</td><td>5</td></tr>",
            "<tr><td>Die Another Day 2</td><td>5</td><td>1</td></tr>",
            "<tr><td>Drive</td><td>5</td><td>1</td></tr>",
            "<tr><td>FF8</td><td>5</td><td>1</td></tr>",
            "<tr><td>MI5</td><td>5</td><td>1</td></tr>",
            "</table>"
        ]
    }
}
],
            "execution_count": 4
        },
        {
            "cell_type": "markdown",
            "source": [
                "<mark>FIND OUT DUPLICATE RECORDS</mark>"
            ],
            "metadata": {
                "azdata_cell_guid": "1946d465-19e1-46f7-95bc-ada061a4d371"
            }
        },
        {
            "cell_type": "code",
            "source": [
                "SELECT \r\n",
                "   NAME,\r\n",
                "   RATING,\r\n",
                "   COUNT(*) AS [HOW MANY TIME COME]\r\n",
                "FROM \r\n",
                "    [DBO].[MOVIES]\r\n",
                "GROUP BY \r\n",
                "   NAME,\r\n",
                "   RATING\r\n",
                "   HAVING COUNT(*) >1"
            ],
            "metadata": {
                "azdata_cell_guid": "5be39c42-4b98-4c3d-af17-c40e841133d4"
            },
            "outputs": [
{
    "output_type": "display_data",
    "data": {
        "text/html": "(4 rows affected)"
    },
    "metadata": {}
}, {
    "output_type": "display_data",
    "data": {
        "text/html": "Total execution time: 00:00:00.105"
    },
    "metadata": {}
}, {
    "output_type": "execute_result",
    "metadata": {},
    "execution_count": 16,
    "data": {
        "application/vnd.dataresource+json": {
            "schema": {
                "fields": [
                    {
                        "name": "NAME"
                    },
                    {
                        "name": "RATING"
                    },
                    {
                        "name": "HOW MANY TIME COME"
                    }
                ]
            },
            "data": [
                {
                    "0": "Who Killed her",
                    "1": "2",
                    "2": "2"
                },
                {
                    "0": "Taxi",
                    "1": "3",
                    "2": "2"
                },
                {
                    "0": "Sky Fall",
                    "1": "4",
                    "2": "5"
                },
                {
                    "0": "Die Another Day",
                    "1": "5",
                    "2": "5"
                }
            ]
        },
        "text/html": [
            "<table>",
            "<tr><th>NAME</th><th>RATING</th><th>HOW MANY TIME COME</th></tr>",
            "<tr><td>Who Killed her</td><td>2</td><td>2</td></tr>",
            "<tr><td>Taxi</td><td>3</td><td>2</td></tr>",
            "<tr><td>Sky Fall</td><td>4</td><td>5</td></tr>",
            "<tr><td>Die Another Day</td><td>5</td><td>5</td></tr>",
            "</table>"
        ]
    }
}
],
            "execution_count": 5
        },
        {
            "cell_type": "markdown",
            "source": [
                "<mark>DUPLICATE RECORDS SELECTION</mark>"
            ],
            "metadata": {
                "azdata_cell_guid": "ffff24e9-f937-4c74-9092-5a7a0b6952f5"
            }
        },
        {
            "cell_type": "code",
            "source": [
                "SELECT *\r\n",
                "FROM [DBO].[MOVIES]\r\n",
                "WHERE  NAME IN\r\n",
                "\t\t\t\t\t( SELECT \r\n",
                "\t\t\t\t\tNAME\r\n",
                "\t\t\t\tFROM \r\n",
                "\t\t\t\t\t[DBO].[MOVIES]\r\n",
                "\t\t\t\tGROUP BY \r\n",
                "\t\t\t\t\tNAME,\r\n",
                "\t\t\t\t   RATING\r\n",
                "\t\t\t\t   HAVING COUNT(*) >1\r\n",
                "\t\t\t\t\t)\r\n",
                "ORDER BY NAME,RATING;"
            ],
            "metadata": {
                "azdata_cell_guid": "3198910b-e74b-4a3d-848f-3499126bd15a"
            },
            "outputs": [
{
    "output_type": "display_data",
    "data": {
        "text/html": "(14 rows affected)"
    },
    "metadata": {}
}, {
    "output_type": "display_data",
    "data": {
        "text/html": "Total execution time: 00:00:00.130"
    },
    "metadata": {}
}, {
    "output_type": "execute_result",
    "metadata": {},
    "execution_count": 17,
    "data": {
        "application/vnd.dataresource+json": {
            "schema": {
                "fields": [
                    {
                        "name": "id"
                    },
                    {
                        "name": "name"
                    },
                    {
                        "name": "rating"
                    }
                ]
            },
            "data": [
                {
                    "0": "63",
                    "1": "Die Another Day",
                    "2": "5"
                },
                {
                    "0": "61",
                    "1": "Die Another Day",
                    "2": "5"
                },
                {
                    "0": "59",
                    "1": "Die Another Day",
                    "2": "5"
                },
                {
                    "0": "47",
                    "1": "Die Another Day",
                    "2": "5"
                },
                {
                    "0": "49",
                    "1": "Die Another Day",
                    "2": "5"
                },
                {
                    "0": "64",
                    "1": "Sky Fall",
                    "2": "4"
                },
                {
                    "0": "48",
                    "1": "Sky Fall",
                    "2": "4"
                },
                {
                    "0": "50",
                    "1": "Sky Fall",
                    "2": "4"
                },
                {
                    "0": "60",
                    "1": "Sky Fall",
                    "2": "4"
                },
                {
                    "0": "62",
                    "1": "Sky Fall",
                    "2": "4"
                },
                {
                    "0": "51",
                    "1": "Taxi",
                    "2": "3"
                },
                {
                    "0": "54",
                    "1": "Taxi",
                    "2": "3"
                },
                {
                    "0": "55",
                    "1": "Who Killed her",
                    "2": "2"
                },
                {
                    "0": "56",
                    "1": "Who Killed her",
                    "2": "2"
                }
            ]
        },
        "text/html": [
            "<table>",
            "<tr><th>id</th><th>name</th><th>rating</th></tr>",
            "<tr><td>63</td><td>Die Another Day</td><td>5</td></tr>",
            "<tr><td>61</td><td>Die Another Day</td><td>5</td></tr>",
            "<tr><td>59</td><td>Die Another Day</td><td>5</td></tr>",
            "<tr><td>47</td><td>Die Another Day</td><td>5</td></tr>",
            "<tr><td>49</td><td>Die Another Day</td><td>5</td></tr>",
            "<tr><td>64</td><td>Sky Fall</td><td>4</td></tr>",
            "<tr><td>48</td><td>Sky Fall</td><td>4</td></tr>",
            "<tr><td>50</td><td>Sky Fall</td><td>4</td></tr>",
            "<tr><td>60</td><td>Sky Fall</td><td>4</td></tr>",
            "<tr><td>62</td><td>Sky Fall</td><td>4</td></tr>",
            "<tr><td>51</td><td>Taxi</td><td>3</td></tr>",
            "<tr><td>54</td><td>Taxi</td><td>3</td></tr>",
            "<tr><td>55</td><td>Who Killed her</td><td>2</td></tr>",
            "<tr><td>56</td><td>Who Killed her</td><td>2</td></tr>",
            "</table>"
        ]
    }
}
],
            "execution_count": 6
        },
        {
            "cell_type": "markdown",
            "source": [
                "<mark>ANALYTICS FUNCTION</mark>"
            ],
            "metadata": {
                "azdata_cell_guid": "3c8fe196-b5e1-4e4c-a2f9-93ab96f93058"
            }
        },
        {
            "cell_type": "code",
            "source": [
                "SELECT M.*,\r\n",
                "    COUNT(*) OVER (PARTITION BY NAME,RATING) \r\n",
                "FROM [DBO].[MOVIES] M;\r\n",
                "\r\n",
                "-- ABOVE QUERY CAN BE DONE SUING ANALYTICS FUNCTION\r\n",
                "SELECT \r\n",
                "    * FROM\r\n",
                "        (SELECT M.*,\r\n",
                "              COUNT(*) OVER (PARTITION BY NAME,RATING) C\r\n",
                "        FROM [DBO].[MOVIES] M\r\n",
                "        ) AS C\r\n",
                "WHERE C > 1;"
            ],
            "metadata": {
                "azdata_cell_guid": "311a08bf-c954-4380-8418-4d4d9e2f78f6"
            },
            "outputs": [
                {
                    "output_type": "display_data",
                    "data": {
                        "text/html": "(24 rows affected)"
                    },
                    "metadata": {}
                },
                {
                    "output_type": "display_data",
                    "data": {
                        "text/html": "(14 rows affected)"
                    },
                    "metadata": {}
                },
                {
                    "output_type": "display_data",
                    "data": {
                        "text/html": "Total execution time: 00:00:00.125"
                    },
                    "metadata": {}
                },
                {
                    "output_type": "execute_result",
                    "execution_count": 7,
                    "data": {
                        "application/vnd.dataresource+json": {
                            "schema": {
                                "fields": [
                                    {
                                        "name": "id"
                                    },
                                    {
                                        "name": "name"
                                    },
                                    {
                                        "name": "rating"
                                    },
                                    {
                                        "name": "(No column name)"
                                    }
                                ]
                            },
                            "data": [
                                {
                                    "0": "23",
                                    "1": "Die Another Day",
                                    "2": "5",
                                    "3": "5"
                                },
                                {
                                    "0": "25",
                                    "1": "Die Another Day",
                                    "2": "5",
                                    "3": "5"
                                },
                                {
                                    "0": "35",
                                    "1": "Die Another Day",
                                    "2": "5",
                                    "3": "5"
                                },
                                {
                                    "0": "37",
                                    "1": "Die Another Day",
                                    "2": "5",
                                    "3": "5"
                                },
                                {
                                    "0": "39",
                                    "1": "Die Another Day",
                                    "2": "5",
                                    "3": "5"
                                },
                                {
                                    "0": "43",
                                    "1": "Die Another Day 2",
                                    "2": "5",
                                    "3": "1"
                                },
                                {
                                    "0": "28",
                                    "1": "Drive",
                                    "2": "5",
                                    "3": "1"
                                },
                                {
                                    "0": "42",
                                    "1": "FF6",
                                    "2": "4",
                                    "3": "1"
                                },
                                {
                                    "0": "46",
                                    "1": "FF8",
                                    "2": "3",
                                    "3": "1"
                                },
                                {
                                    "0": "41",
                                    "1": "FF8",
                                    "2": "5",
                                    "3": "1"
                                },
                                {
                                    "0": "29",
                                    "1": "hero",
                                    "2": "4",
                                    "3": "1"
                                },
                                {
                                    "0": "33",
                                    "1": "MI5",
                                    "2": "5",
                                    "3": "1"
                                },
                                {
                                    "0": "34",
                                    "1": "MI6",
                                    "2": "4",
                                    "3": "1"
                                },
                                {
                                    "0": "45",
                                    "1": "MI7",
                                    "2": "3",
                                    "3": "1"
                                },
                                {
                                    "0": "36",
                                    "1": "Sky Fall",
                                    "2": "4",
                                    "3": "5"
                                },
                                {
                                    "0": "40",
                                    "1": "Sky Fall",
                                    "2": "4",
                                    "3": "5"
                                },
                                {
                                    "0": "38",
                                    "1": "Sky Fall",
                                    "2": "4",
                                    "3": "5"
                                },
                                {
                                    "0": "26",
                                    "1": "Sky Fall",
                                    "2": "4",
                                    "3": "5"
                                },
                                {
                                    "0": "24",
                                    "1": "Sky Fall",
                                    "2": "4",
                                    "3": "5"
                                },
                                {
                                    "0": "44",
                                    "1": "Sky Fall 2",
                                    "2": "4",
                                    "3": "1"
                                },
                                {
                                    "0": "27",
                                    "1": "Taxi",
                                    "2": "3",
                                    "3": "2"
                                },
                                {
                                    "0": "30",
                                    "1": "Taxi",
                                    "2": "3",
                                    "3": "2"
                                },
                                {
                                    "0": "31",
                                    "1": "Who Killed her",
                                    "2": "2",
                                    "3": "2"
                                },
                                {
                                    "0": "32",
                                    "1": "Who Killed her",
                                    "2": "2",
                                    "3": "2"
                                }
                            ]
                        },
                        "text/html": "<table><tr><th>id</th><th>name</th><th>rating</th><th>(No column name)</th></tr><tr><td>23</td><td>Die Another Day</td><td>5</td><td>5</td></tr><tr><td>25</td><td>Die Another Day</td><td>5</td><td>5</td></tr><tr><td>35</td><td>Die Another Day</td><td>5</td><td>5</td></tr><tr><td>37</td><td>Die Another Day</td><td>5</td><td>5</td></tr><tr><td>39</td><td>Die Another Day</td><td>5</td><td>5</td></tr><tr><td>43</td><td>Die Another Day 2</td><td>5</td><td>1</td></tr><tr><td>28</td><td>Drive</td><td>5</td><td>1</td></tr><tr><td>42</td><td>FF6</td><td>4</td><td>1</td></tr><tr><td>46</td><td>FF8</td><td>3</td><td>1</td></tr><tr><td>41</td><td>FF8</td><td>5</td><td>1</td></tr><tr><td>29</td><td>hero</td><td>4</td><td>1</td></tr><tr><td>33</td><td>MI5</td><td>5</td><td>1</td></tr><tr><td>34</td><td>MI6</td><td>4</td><td>1</td></tr><tr><td>45</td><td>MI7</td><td>3</td><td>1</td></tr><tr><td>36</td><td>Sky Fall</td><td>4</td><td>5</td></tr><tr><td>40</td><td>Sky Fall</td><td>4</td><td>5</td></tr><tr><td>38</td><td>Sky Fall</td><td>4</td><td>5</td></tr><tr><td>26</td><td>Sky Fall</td><td>4</td><td>5</td></tr><tr><td>24</td><td>Sky Fall</td><td>4</td><td>5</td></tr><tr><td>44</td><td>Sky Fall 2</td><td>4</td><td>1</td></tr><tr><td>27</td><td>Taxi</td><td>3</td><td>2</td></tr><tr><td>30</td><td>Taxi</td><td>3</td><td>2</td></tr><tr><td>31</td><td>Who Killed her</td><td>2</td><td>2</td></tr><tr><td>32</td><td>Who Killed her</td><td>2</td><td>2</td></tr></table>"
                    },
                    "metadata": {}
                },
                {
                    "output_type": "execute_result",
                    "execution_count": 7,
                    "data": {
                        "application/vnd.dataresource+json": {
                            "schema": {
                                "fields": [
                                    {
                                        "name": "id"
                                    },
                                    {
                                        "name": "name"
                                    },
                                    {
                                        "name": "rating"
                                    },
                                    {
                                        "name": "C"
                                    }
                                ]
                            },
                            "data": [
                                {
                                    "0": "23",
                                    "1": "Die Another Day",
                                    "2": "5",
                                    "3": "5"
                                },
                                {
                                    "0": "25",
                                    "1": "Die Another Day",
                                    "2": "5",
                                    "3": "5"
                                },
                                {
                                    "0": "35",
                                    "1": "Die Another Day",
                                    "2": "5",
                                    "3": "5"
                                },
                                {
                                    "0": "37",
                                    "1": "Die Another Day",
                                    "2": "5",
                                    "3": "5"
                                },
                                {
                                    "0": "39",
                                    "1": "Die Another Day",
                                    "2": "5",
                                    "3": "5"
                                },
                                {
                                    "0": "36",
                                    "1": "Sky Fall",
                                    "2": "4",
                                    "3": "5"
                                },
                                {
                                    "0": "40",
                                    "1": "Sky Fall",
                                    "2": "4",
                                    "3": "5"
                                },
                                {
                                    "0": "38",
                                    "1": "Sky Fall",
                                    "2": "4",
                                    "3": "5"
                                },
                                {
                                    "0": "26",
                                    "1": "Sky Fall",
                                    "2": "4",
                                    "3": "5"
                                },
                                {
                                    "0": "24",
                                    "1": "Sky Fall",
                                    "2": "4",
                                    "3": "5"
                                },
                                {
                                    "0": "27",
                                    "1": "Taxi",
                                    "2": "3",
                                    "3": "2"
                                },
                                {
                                    "0": "30",
                                    "1": "Taxi",
                                    "2": "3",
                                    "3": "2"
                                },
                                {
                                    "0": "31",
                                    "1": "Who Killed her",
                                    "2": "2",
                                    "3": "2"
                                },
                                {
                                    "0": "32",
                                    "1": "Who Killed her",
                                    "2": "2",
                                    "3": "2"
                                }
                            ]
                        },
                        "text/html": "<table><tr><th>id</th><th>name</th><th>rating</th><th>C</th></tr><tr><td>23</td><td>Die Another Day</td><td>5</td><td>5</td></tr><tr><td>25</td><td>Die Another Day</td><td>5</td><td>5</td></tr><tr><td>35</td><td>Die Another Day</td><td>5</td><td>5</td></tr><tr><td>37</td><td>Die Another Day</td><td>5</td><td>5</td></tr><tr><td>39</td><td>Die Another Day</td><td>5</td><td>5</td></tr><tr><td>36</td><td>Sky Fall</td><td>4</td><td>5</td></tr><tr><td>40</td><td>Sky Fall</td><td>4</td><td>5</td></tr><tr><td>38</td><td>Sky Fall</td><td>4</td><td>5</td></tr><tr><td>26</td><td>Sky Fall</td><td>4</td><td>5</td></tr><tr><td>24</td><td>Sky Fall</td><td>4</td><td>5</td></tr><tr><td>27</td><td>Taxi</td><td>3</td><td>2</td></tr><tr><td>30</td><td>Taxi</td><td>3</td><td>2</td></tr><tr><td>31</td><td>Who Killed her</td><td>2</td><td>2</td></tr><tr><td>32</td><td>Who Killed her</td><td>2</td><td>2</td></tr></table>"
                    },
                    "metadata": {}
                }
            ],
            "execution_count": 7
        },
        {
            "cell_type": "markdown",
            "source": [
                "<mark>SELECT RECORD IDS WHO HAVE DUPLICATE RECORD</mark>"
            ],
            "metadata": {
                "azdata_cell_guid": "59a6277f-5993-4b6f-b041-37b8711631a9"
            }
        },
        {
            "cell_type": "markdown",
            "source": [
                ""
            ],
            "metadata": {
                "azdata_cell_guid": "16a3ae29-d06d-47c7-ad6d-961e82d39bdc"
            }
        },
        {
            "cell_type": "code",
            "source": [
                "SELECT\r\n",
                "  MAX(ID)\r\n",
                "FROM\r\n",
                "  DBO.MOVIES\r\n",
                "GROUP BY\r\n",
                "  NAME,\r\n",
                "  RATING\r\n",
                "ORDER BY\r\n",
                "  MAX(ID);"
            ],
            "metadata": {
                "azdata_cell_guid": "d10d350a-ffb5-47a0-bad9-23d216575f41"
            },
            "outputs": [
                {
                    "output_type": "display_data",
                    "data": {
                        "text/html": "(14 rows affected)"
                    },
                    "metadata": {}
                },
                {
                    "output_type": "display_data",
                    "data": {
                        "text/html": "Total execution time: 00:00:00.104"
                    },
                    "metadata": {}
                },
                {
                    "output_type": "execute_result",
                    "execution_count": 9,
                    "data": {
                        "application/vnd.dataresource+json": {
                            "schema": {
                                "fields": [
                                    {
                                        "name": "(No column name)"
                                    }
                                ]
                            },
                            "data": [
                                {
                                    "0": "28"
                                },
                                {
                                    "0": "29"
                                },
                                {
                                    "0": "30"
                                },
                                {
                                    "0": "32"
                                },
                                {
                                    "0": "33"
                                },
                                {
                                    "0": "34"
                                },
                                {
                                    "0": "39"
                                },
                                {
                                    "0": "40"
                                },
                                {
                                    "0": "41"
                                },
                                {
                                    "0": "42"
                                },
                                {
                                    "0": "43"
                                },
                                {
                                    "0": "44"
                                },
                                {
                                    "0": "45"
                                },
                                {
                                    "0": "46"
                                }
                            ]
                        },
                        "text/html": "<table><tr><th>(No column name)</th></tr><tr><td>28</td></tr><tr><td>29</td></tr><tr><td>30</td></tr><tr><td>32</td></tr><tr><td>33</td></tr><tr><td>34</td></tr><tr><td>39</td></tr><tr><td>40</td></tr><tr><td>41</td></tr><tr><td>42</td></tr><tr><td>43</td></tr><tr><td>44</td></tr><tr><td>45</td></tr><tr><td>46</td></tr></table>"
                    },
                    "metadata": {}
                }
            ],
            "execution_count": 9
        },
        {
            "cell_type": "markdown",
            "source": [
                " <mark>REMOVE DUPLICATE RECORD.ONLY KEEPING LATEST INSERTED ONE</mark>"
            ],
            "metadata": {
                "azdata_cell_guid": "4c24a842-bf68-4d80-9b9c-d180e8caebe4"
            }
        },
        {
            "cell_type": "code",
            "source": [
                "DELETE FROM\r\n",
                "  DBO.MOVIES\r\n",
                "WHERE\r\n",
                "  ID NOT IN\r\n",
                "  (\r\n",
                "    SELECT\r\n",
                "      MAX(ID)\r\n",
                "    FROM\r\n",
                "      DBO.MOVIES\r\n",
                "    GROUP BY\r\n",
                "      NAME,\r\n",
                "      RATING\r\n",
                "  );\r\n",
                "\r\n",
                ""
            ],
            "metadata": {
                "azdata_cell_guid": "6a7d2ec7-d845-4f6e-895a-3282837d34e2"
            },
            "outputs": [
{
    "output_type": "display_data",
    "data": {
        "text/html": "(10 rows affected)"
    },
    "metadata": {}
}, {
    "output_type": "display_data",
    "data": {
        "text/html": "Total execution time: 00:00:00.120"
    },
    "metadata": {}
}
],
            "execution_count": null
        },
        {
            "cell_type": "code",
            "source": [
                "--CREATE TABLE MOVIEDB1\r\n",
                "CREATE TABLE MOVIEDB1 (ID INT , NAME VARCHAR(100),RATING DECIMAL);\r\n",
                "\r\n",
                "--INSERT VALUE INTO TABLE MOVIEDB1\r\n",
                "\r\n",
                "INSERT INTO MOVIEDB1 VALUES(1,'DIE ANOTHER DAY',5.0); \r\n",
                "INSERT INTO MOVIEDB1 VALUES(2,'SKY FALL',4.0); \r\n",
                "\r\n",
                "INSERT INTO MOVIEDB1 VALUES(3,'TAXI',0.0); \r\n",
                "INSERT INTO MOVIEDB1 VALUES(4,'WHO KILLED HER',2.0); \r\n",
                "\r\n",
                "INSERT INTO MOVIEDB1 VALUES(5,'MI5',5.0); \r\n",
                "INSERT INTO MOVIEDB1 VALUES(6,'MI6',4.0); \r\n",
                "\r\n",
                "INSERT INTO MOVIEDB1 VALUES(7,'DRIVE',5.0); \r\n",
                "INSERT INTO MOVIEDB1 VALUES(8,'HERO',4.0); \r\n",
                "\r\n",
                "INSERT INTO MOVIEDB1 VALUES(9,'BABY DRIVE',''); \r\n",
                "INSERT INTO MOVIEDB1 VALUES(10,'',4.0); \r\n",
                "\r\n",
                "INSERT INTO MOVIEDB1 VALUES(11,'DIE ANOTHER DAY 2',5.0); \r\n",
                "INSERT INTO MOVIEDB1 VALUES(12,'SKY FALL 2',4.0); \r\n",
                "\r\n",
                "INSERT INTO MOVIEDB1 VALUES(13,'FF8',5.0); \r\n",
                "INSERT INTO MOVIEDB1 VALUES(14,'FF6',4.0); \r\n",
                "\r\n",
                "-- SELECT FROM TABLE MOVIEDB1\r\n",
                "SELECT * FROM MOVIEDB1;\r\n",
                "\r\n",
                "---------- REMOVE TABLE -----------\r\n",
                "--DROP TABLE  MOVIEDB1"
            ],
            "metadata": {
                "azdata_cell_guid": "16cc139d-973b-4210-8bb5-fdc7ab54a3d4"
            },
            "outputs": [
                {
                    "output_type": "display_data",
                    "data": {
                        "text/html": "(1 row affected)"
                    },
                    "metadata": {}
                },
                {
                    "output_type": "display_data",
                    "data": {
                        "text/html": "(1 row affected)"
                    },
                    "metadata": {}
                },
                {
                    "output_type": "display_data",
                    "data": {
                        "text/html": "(1 row affected)"
                    },
                    "metadata": {}
                },
                {
                    "output_type": "display_data",
                    "data": {
                        "text/html": "(1 row affected)"
                    },
                    "metadata": {}
                },
                {
                    "output_type": "display_data",
                    "data": {
                        "text/html": "(1 row affected)"
                    },
                    "metadata": {}
                },
                {
                    "output_type": "display_data",
                    "data": {
                        "text/html": "(1 row affected)"
                    },
                    "metadata": {}
                },
                {
                    "output_type": "display_data",
                    "data": {
                        "text/html": "(1 row affected)"
                    },
                    "metadata": {}
                },
                {
                    "output_type": "display_data",
                    "data": {
                        "text/html": "(1 row affected)"
                    },
                    "metadata": {}
                },
                {
                    "output_type": "error",
                    "evalue": "Msg 8114, Level 16, State 5, Line 18\r\nError converting data type varchar to numeric.",
                    "ename": "",
                    "traceback": []
                },
                {
                    "output_type": "display_data",
                    "data": {
                        "text/html": "Total execution time: 00:00:00.201"
                    },
                    "metadata": {}
                }
            ],
            "execution_count": 1
        },
        {
            "cell_type": "code",
            "source": [
                "-- SELECT FROM TABLE MOVIEDB1\r\n",
                "SELECT * FROM MOVIEDB1;"
            ],
            "metadata": {
                "azdata_cell_guid": "fbfc5b68-d7a2-41e4-aa68-07f1447f9170"
            },
            "outputs": [
                {
                    "output_type": "display_data",
                    "data": {
                        "text/html": "(8 rows affected)"
                    },
                    "metadata": {}
                },
                {
                    "output_type": "display_data",
                    "data": {
                        "text/html": "Total execution time: 00:00:00.105"
                    },
                    "metadata": {}
                },
                {
                    "output_type": "execute_result",
                    "metadata": {},
                    "execution_count": 2,
                    "data": {
                        "application/vnd.dataresource+json": {
                            "schema": {
                                "fields": [
                                    {
                                        "name": "ID"
                                    },
                                    {
                                        "name": "NAME"
                                    },
                                    {
                                        "name": "RATING"
                                    }
                                ]
                            },
                            "data": [
                                {
                                    "0": "1",
                                    "1": "DIE ANOTHER DAY",
                                    "2": "5"
                                },
                                {
                                    "0": "2",
                                    "1": "SKY FALL",
                                    "2": "4"
                                },
                                {
                                    "0": "3",
                                    "1": "TAXI",
                                    "2": "0"
                                },
                                {
                                    "0": "4",
                                    "1": "WHO KILLED HER",
                                    "2": "2"
                                },
                                {
                                    "0": "5",
                                    "1": "MI5",
                                    "2": "5"
                                },
                                {
                                    "0": "6",
                                    "1": "MI6",
                                    "2": "4"
                                },
                                {
                                    "0": "7",
                                    "1": "DRIVE",
                                    "2": "5"
                                },
                                {
                                    "0": "8",
                                    "1": "HERO",
                                    "2": "4"
                                }
                            ]
                        },
                        "text/html": [
                            "<table>",
                            "<tr><th>ID</th><th>NAME</th><th>RATING</th></tr>",
                            "<tr><td>1</td><td>DIE ANOTHER DAY</td><td>5</td></tr>",
                            "<tr><td>2</td><td>SKY FALL</td><td>4</td></tr>",
                            "<tr><td>3</td><td>TAXI</td><td>0</td></tr>",
                            "<tr><td>4</td><td>WHO KILLED HER</td><td>2</td></tr>",
                            "<tr><td>5</td><td>MI5</td><td>5</td></tr>",
                            "<tr><td>6</td><td>MI6</td><td>4</td></tr>",
                            "<tr><td>7</td><td>DRIVE</td><td>5</td></tr>",
                            "<tr><td>8</td><td>HERO</td><td>4</td></tr>",
                            "</table>"
                        ]
                    }
                }
            ],
            "execution_count": 2
        }
    ]
}